{
 "cells": [
  {
   "cell_type": "code",
   "execution_count": 1,
   "id": "ce94a870-78b7-4945-9175-cbc314940370",
   "metadata": {},
   "outputs": [
    {
     "name": "stdout",
     "output_type": "stream",
     "text": [
      "Requirement already satisfied: requests in /home/patrick/Documents/datascience/projects/python/my-ml-service/venv/lib/python3.12/site-packages (2.32.3)\n",
      "Requirement already satisfied: charset-normalizer<4,>=2 in /home/patrick/Documents/datascience/projects/python/my-ml-service/venv/lib/python3.12/site-packages (from requests) (3.4.1)\n",
      "Requirement already satisfied: idna<4,>=2.5 in /home/patrick/Documents/datascience/projects/python/my-ml-service/venv/lib/python3.12/site-packages (from requests) (3.10)\n",
      "Requirement already satisfied: urllib3<3,>=1.21.1 in /home/patrick/Documents/datascience/projects/python/my-ml-service/venv/lib/python3.12/site-packages (from requests) (2.3.0)\n",
      "Requirement already satisfied: certifi>=2017.4.17 in /home/patrick/Documents/datascience/projects/python/my-ml-service/venv/lib/python3.12/site-packages (from requests) (2024.12.14)\n",
      "\n",
      "\u001b[1m[\u001b[0m\u001b[34;49mnotice\u001b[0m\u001b[1;39;49m]\u001b[0m\u001b[39;49m A new release of pip is available: \u001b[0m\u001b[31;49m24.3.1\u001b[0m\u001b[39;49m -> \u001b[0m\u001b[32;49m25.0.1\u001b[0m\n",
      "\u001b[1m[\u001b[0m\u001b[34;49mnotice\u001b[0m\u001b[1;39;49m]\u001b[0m\u001b[39;49m To update, run: \u001b[0m\u001b[32;49mpip install --upgrade pip\u001b[0m\n"
     ]
    }
   ],
   "source": [
    "!pip install requests\n"
   ]
  },
  {
   "cell_type": "code",
   "execution_count": 4,
   "id": "64fc20df-440a-4bc0-8e97-b836783778c1",
   "metadata": {},
   "outputs": [],
   "source": [
    "import json\n",
    "import numpy as np \n",
    "import pandas as pd\n",
    "from sklearn.model_selection import train_test_split \n",
    "import requests\n",
    "df = pd.read_csv('https://raw.githubusercontent.com/pplonski/datasets-for-start/master/adult/data.csv', skipinitialspace=True)\n",
    "x_cols = [c for c in df.columns if c != 'income']\n",
    "# set input matrix and target column\n",
    "X = df[x_cols]\n",
    "y = df['income']\n",
    "# show first rows of data\n",
    "df.head()\n",
    "X_train, X_test, y_train, y_test = train_test_split(X, y, test_size = 0.3, random_state=1234)"
   ]
  },
  {
   "cell_type": "code",
   "execution_count": null,
   "id": "16e7abf3-0d73-4c28-9309-da953df669ec",
   "metadata": {},
   "outputs": [],
   "source": [
    "for i in range(100):\n",
    "    input_data = dict(X_test.iloc[i])\n",
    "    target = y_test.iloc[i]\n",
    "    r = requests.post(\"http://127.0.0.1:8000/api/v1/income_classifier/predict?status=ab_testing\", input_data)\n",
    "    response = r.json()\n",
    "    # provide feedback\n",
    "    requests.put(\"http://127.0.0.1:8000/api/v1/mlrequests/{}\".format(response[\"request_id\"]), {\"feedback\": target})"
   ]
  },
  {
   "cell_type": "code",
   "execution_count": null,
   "id": "1a57fc87-7ab2-4ca5-ba8a-36c3ccf0554c",
   "metadata": {},
   "outputs": [],
   "source": []
  }
 ],
 "metadata": {
  "kernelspec": {
   "display_name": "Python 3 (ipykernel)",
   "language": "python",
   "name": "python3"
  },
  "language_info": {
   "codemirror_mode": {
    "name": "ipython",
    "version": 3
   },
   "file_extension": ".py",
   "mimetype": "text/x-python",
   "name": "python",
   "nbconvert_exporter": "python",
   "pygments_lexer": "ipython3",
   "version": "3.12.6"
  }
 },
 "nbformat": 4,
 "nbformat_minor": 5
}
